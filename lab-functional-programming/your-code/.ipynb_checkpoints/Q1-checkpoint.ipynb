{
 "cells": [
  {
   "cell_type": "markdown",
   "metadata": {},
   "source": [
    "In the cell below, create a Python function that wraps your previous solution for the Bag of Words lab.\n",
    "\n",
    "Requirements:\n",
    "\n",
    "1. Your function should accept the following parameters:\n",
    "    * `docs` [REQUIRED] - array of document paths.\n",
    "    * `stop_words` [OPTIONAL] - array of stop words. The default value is an empty array.\n",
    "\n",
    "1. Your function should return a Python object that contains the following:\n",
    "    * `bag_of_words` - array of strings of normalized unique words in the corpus.\n",
    "    * `term_freq` - array of the term-frequency vectors."
   ]
  },
  {
   "cell_type": "code",
   "execution_count": 246,
   "metadata": {},
   "outputs": [],
   "source": [
    "# Import required libraries\n",
    "docs = ['doc1.txt', 'doc2.txt', 'doc3.txt']\n",
    "\n",
    "# Define function\n",
    "def get_bow_from_docs(docs,_stop_words=[]):\n",
    "    \n",
    "    # In the function, first define the variables you will use such as `corpus`, `bag_of_words`, and `term_freq`.\n",
    "    \n",
    "    corpus = []\n",
    "    bag_of_words = []\n",
    "    term_freq = []\n",
    "\n",
    "    \"\"\"\n",
    "    Loop `docs` and read the content of each doc into a string in `corpus`.\n",
    "    Remember to convert the doc content to lowercases and remove punctuation.\n",
    "    \"\"\"\n",
    "\n",
    "    for documento in docs: \n",
    "        with open (documento) as f:\n",
    "            corpus.append(f.read().lower().replace('.','').replace('\\n',''))\n",
    "            corpus_j=(' '.join(corpus)).split()\n",
    "\n",
    "    \"\"\"\n",
    "    Loop `corpus`. Append the terms in each doc into the `bag_of_words` array. The terms in `bag_of_words` \n",
    "    should be unique which means before adding each term you need to check if it's already added to the array.\n",
    "    In addition, check if each term is in the `stop_words` array. Only append the term to `bag_of_words`\n",
    "    if it is not a stop word.\n",
    "    \"\"\"\n",
    "    for word in corpus_j:\n",
    "        if word not in bag_of_words:\n",
    "            bag_of_words.append(word)\n",
    "          \n",
    "    \"\"\"\n",
    "    Loop `corpus` again. For each doc string, count the number of occurrences of each term in `bag_of_words`. \n",
    "    Create an array for each doc's term frequency and append it to `term_freq`.\n",
    "    \"\"\"\n",
    "    for texto in corpus:\n",
    "        temp_freq=[]\n",
    "        corpus_list=texto.split()\n",
    "        for w in bag_of_words:\n",
    "            temp_freq.append(corpus_list.count(w))\n",
    "        term_freq.append(temp_freq)\n",
    "\n",
    "    # Now return your output as an object\n",
    "    return {\"bag_of_words\": bag_of_words,\"term_freq\": term_freq}\n",
    "    "
   ]
  },
  {
   "cell_type": "code",
   "execution_count": null,
   "metadata": {},
   "outputs": [],
   "source": []
  },
  {
   "cell_type": "code",
   "execution_count": 247,
   "metadata": {},
   "outputs": [
    {
     "name": "stdout",
     "output_type": "stream",
     "text": [
      "{'bag_of_words': ['ironhack', 'is', 'cool', 'i', 'love', 'am', 'a', 'student', 'at'], 'term_freq': [[1, 1, 1, 0, 0, 0, 0, 0, 0], [1, 0, 0, 1, 1, 0, 0, 0, 0], [1, 0, 0, 1, 0, 1, 1, 1, 1]]}\n"
     ]
    }
   ],
   "source": [
    "solution=get_bow_from_docs(docs)\n",
    "print(solution)"
   ]
  },
  {
   "cell_type": "code",
   "execution_count": null,
   "metadata": {},
   "outputs": [],
   "source": []
  },
  {
   "cell_type": "markdown",
   "metadata": {},
   "source": [
    "Test your function without stop words. You should see the output like below:\n",
    "\n",
    "```{'bag_of_words': ['ironhack', 'is', 'cool', 'i', 'love', 'am', 'a', 'student', 'at'], 'term_freq': [[1, 1, 1, 0, 0, 0, 0, 0, 0], [1, 0, 0, 1, 1, 0, 0, 0, 0], [1, 0, 0, 1, 0, 1, 1, 1, 1]]}```"
   ]
  },
  {
   "cell_type": "code",
   "execution_count": 248,
   "metadata": {},
   "outputs": [
    {
     "name": "stdout",
     "output_type": "stream",
     "text": [
      "{'bag_of_words': ['ironhack', 'is', 'cool', 'i', 'love', 'am', 'a', 'student', 'at'], 'term_freq': [[1, 1, 1, 0, 0, 0, 0, 0, 0], [1, 0, 0, 1, 1, 0, 0, 0, 0], [1, 0, 0, 1, 0, 1, 1, 1, 1]]}\n"
     ]
    }
   ],
   "source": [
    "# Define doc paths array\n",
    "docs = ['doc1.txt', 'doc2.txt', 'doc3.txt']\n",
    "\n",
    "# Obtain BoW from your function\n",
    "bow = get_bow_from_docs(docs)\n",
    "\n",
    "# Print BoW\n",
    "print(bow)"
   ]
  },
  {
   "cell_type": "code",
   "execution_count": null,
   "metadata": {},
   "outputs": [],
   "source": []
  },
  {
   "cell_type": "markdown",
   "metadata": {},
   "source": [
    "If your attempt above is successful, nice work done!\n",
    "\n",
    "Now test your function again with the stop words. In the previous lab we defined the stop words in a large array. In this lab, we'll import the stop words from Scikit-Learn."
   ]
  },
  {
   "cell_type": "code",
   "execution_count": 249,
   "metadata": {},
   "outputs": [
    {
     "name": "stdout",
     "output_type": "stream",
     "text": [
      "frozenset({'should', 'cant', 'move', 'anything', 'nobody', 'us', 'however', 'and', 'hence', 'thereupon', 'whither', 'anywhere', 'thereby', 'ourselves', 'go', 'cry', 'get', 'see', 'twenty', 'our', 'itself', 'detail', 'he', 'within', 'of', 'across', 'whereafter', 'whoever', 'such', 'been', 'whose', 'where', 'nowhere', 'sometime', 'hasnt', 'still', 'someone', 'least', 'herself', 'is', 'ten', 'thick', 'after', 'always', 'more', 'himself', 'couldnt', 'the', 'mill', 'please', 'own', 'we', 'full', 'whereas', 'my', 'somehow', 'along', 'thru', 'their', 'indeed', 'for', 'few', 'below', 'whereby', 'bill', 'otherwise', 'toward', 'amongst', 'could', 'off', 'no', 'your', 'co', 'back', 'con', 'fifty', 'due', 'become', 'amount', 'seem', 'keep', 'then', 'afterwards', 'yours', 'neither', 'anyone', 'has', 'it', 'have', 'first', 'anyway', 'amoungst', 'had', 'almost', 'towards', 'another', 'ltd', 'fire', 'several', 'with', 'themselves', 'yet', 'to', 'around', 'yourselves', 'whom', 'everyone', 'nothing', 'nor', 'wherein', 'whether', 'fill', 'everywhere', 'that', 'do', 'when', 'therein', 'now', 'de', 'put', 'during', 'either', 'rather', 'else', 'part', 'empty', 'former', 'ie', 'his', 'must', 'well', 'beside', 'others', 'not', 'about', 'while', 'further', 'never', 'mine', 'elsewhere', 'eight', 'top', 'seemed', 'them', 'ours', 'whereupon', 'often', 'thus', 'its', 'none', 'four', 'most', 'very', 'before', 'throughout', 'front', 'was', 'those', 'inc', 'each', 'next', 'she', 'seems', 'five', 'latterly', 'seeming', 'under', 'against', 'eg', 'thereafter', 'describe', 'who', 'might', 'as', 'found', 'enough', 'something', 'formerly', 'because', 'though', 'fifteen', 'sixty', 'behind', 'into', 'done', 'ever', 'an', 'also', 'noone', 'without', 'but', 'both', 'same', 'through', 'side', 'anyhow', 'even', 'call', 'interest', 'onto', 'show', 'together', 'hereafter', 'less', 'they', 'than', 'her', 'twelve', 'sincere', 'being', 'name', 'find', 'yourself', 'whenever', 'un', 'myself', 'thence', 'three', 'third', 'made', 'became', 'hereupon', 'i', 'give', 'from', 'serious', 'last', 'among', 'would', 'somewhere', 'although', 'forty', 'will', 'you', 'these', 'can', 'take', 'over', 'between', 'six', 'upon', 'whole', 'namely', 'beyond', 'eleven', 'which', 'two', 'any', 'wherever', 'am', 'out', 'beforehand', 'up', 'bottom', 'whatever', 'only', 'if', 'again', 'at', 'be', 'there', 'in', 'alone', 'much', 'many', 'hereby', 'becomes', 'one', 'already', 'every', 'a', 'thin', 'besides', 'everything', 'down', 'so', 'why', 'sometimes', 'latter', 'all', 'what', 'therefore', 'were', 'or', 'per', 'until', 'him', 'some', 'once', 'nine', 'except', 'other', 'meanwhile', 'whence', 'me', 'system', 'too', 'perhaps', 'here', 'by', 'etc', 'may', 'moreover', 'since', 'this', 'how', 'herein', 'cannot', 'above', 'on', 'mostly', 'becoming', 'are', 'hers', 'nevertheless', 'via', 'hundred', 're'})\n"
     ]
    }
   ],
   "source": [
    "from sklearn.feature_extraction import _stop_words\n",
    "print(_stop_words.ENGLISH_STOP_WORDS)"
   ]
  },
  {
   "cell_type": "code",
   "execution_count": null,
   "metadata": {},
   "outputs": [],
   "source": []
  },
  {
   "cell_type": "code",
   "execution_count": null,
   "metadata": {},
   "outputs": [],
   "source": []
  },
  {
   "cell_type": "markdown",
   "metadata": {},
   "source": [
    "You should have seen a large list of words that looks like:\n",
    "\n",
    "```frozenset({'across', 'mine', 'cannot', ...})```\n",
    "\n",
    "`frozenset` is a type of Python object that is immutable. In this lab you can use it just like an array without conversion."
   ]
  },
  {
   "cell_type": "markdown",
   "metadata": {},
   "source": [
    "Next, test your function with supplying `stop_words.ENGLISH_STOP_WORDS` as the second parameter."
   ]
  },
  {
   "cell_type": "code",
   "execution_count": 250,
   "metadata": {},
   "outputs": [
    {
     "name": "stdout",
     "output_type": "stream",
     "text": [
      "{'bag_of_words': ['ironhack', 'is', 'cool', 'i', 'love', 'am', 'a', 'student', 'at'], 'term_freq': [[1, 1, 1, 0, 0, 0, 0, 0, 0], [1, 0, 0, 1, 1, 0, 0, 0, 0], [1, 0, 0, 1, 0, 1, 1, 1, 1]]}\n"
     ]
    }
   ],
   "source": [
    "docs = ['doc1.txt', 'doc2.txt', 'doc3.txt']\n",
    "\n",
    "bow = get_bow_from_docs(docs, _stop_words.ENGLISH_STOP_WORDS)\n",
    "\n",
    "print(bow)"
   ]
  },
  {
   "cell_type": "code",
   "execution_count": null,
   "metadata": {},
   "outputs": [],
   "source": []
  },
  {
   "cell_type": "code",
   "execution_count": null,
   "metadata": {},
   "outputs": [],
   "source": []
  },
  {
   "cell_type": "code",
   "execution_count": null,
   "metadata": {},
   "outputs": [],
   "source": []
  },
  {
   "cell_type": "markdown",
   "metadata": {},
   "source": [
    "You should have seen:\n",
    "\n",
    "```{'bag_of_words': ['ironhack', 'cool', 'love', 'student'], 'term_freq': [[1, 1, 0, 0], [1, 0, 1, 0], [1, 0, 0, 1]]}```"
   ]
  },
  {
   "cell_type": "code",
   "execution_count": null,
   "metadata": {},
   "outputs": [],
   "source": []
  }
 ],
 "metadata": {
  "kernelspec": {
   "display_name": "Python 3 (ipykernel)",
   "language": "python",
   "name": "python3"
  },
  "language_info": {
   "codemirror_mode": {
    "name": "ipython",
    "version": 3
   },
   "file_extension": ".py",
   "mimetype": "text/x-python",
   "name": "python",
   "nbconvert_exporter": "python",
   "pygments_lexer": "ipython3",
   "version": "3.9.7"
  }
 },
 "nbformat": 4,
 "nbformat_minor": 2
}
